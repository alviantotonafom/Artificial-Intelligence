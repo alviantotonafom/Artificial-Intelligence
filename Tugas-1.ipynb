{
  "nbformat": 4,
  "nbformat_minor": 0,
  "metadata": {
    "colab": {
      "provenance": []
    },
    "kernelspec": {
      "name": "python3",
      "display_name": "Python 3"
    },
    "language_info": {
      "name": "python"
    }
  },
  "cells": [
    {
      "cell_type": "markdown",
      "source": [
        "# Prediksi Kelulusan Siswa Berdasarkan Jam Belajar dan Tidur\n",
        "\n",
        "Dalam analisis ini, kita akan memprediksi apakah seorang siswa akan lulus atau tidak berdasarkan dua variabel penting:\n",
        "1. Jumlah jam belajar.\n",
        "2. Jumlah jam tidur.\n",
        "\n",
        "Kami akan menggunakan dua algoritma:\n",
        "- K-Nearest Neighbors (KNN)\n",
        "- Logistic Regression\n",
        "\n",
        "Setelah itu, kami akan mengevaluasi performa masing-masing model.\n"
      ],
      "metadata": {
        "id": "brNJ5oVz8jig"
      }
    },
    {
      "cell_type": "code",
      "source": [
        "# 1. Mengimpor Library\n",
        "import numpy as np\n",
        "import pandas as pd\n",
        "import matplotlib.pyplot as plt\n",
        "import seaborn as sns\n",
        "from sklearn.model_selection import train_test_split\n",
        "from sklearn.preprocessing import StandardScaler\n",
        "from sklearn.neighbors import KNeighborsClassifier\n",
        "from sklearn.linear_model import LogisticRegression\n",
        "from sklearn.metrics import accuracy_score, classification_report\n"
      ],
      "metadata": {
        "id": "gi2TS6gF8lxa"
      },
      "execution_count": 10,
      "outputs": []
    },
    {
      "cell_type": "markdown",
      "source": [
        "## Membuat Dataset Sederhana\n",
        "\n",
        "Dataset ini mencakup data jam belajar dan jam tidur dari beberapa siswa, serta status apakah mereka lulus atau tidak.\n"
      ],
      "metadata": {
        "id": "Hv4zF6JJ8rRL"
      }
    },
    {
      "cell_type": "code",
      "source": [
        "# 2. Membuat dataset sederhana\n",
        "data = {\n",
        "    'jam_belajar': [2, 3, 4, 5, 6, 7, 8, 2, 4, 6, 3, 5, 7, 9],\n",
        "    'jam_tidur': [8, 7, 6, 5, 4, 6, 8, 5, 4, 5, 7, 6, 8, 5],\n",
        "    'lulus': [0, 0, 0, 1, 1, 1, 1, 0, 0, 1, 0, 1, 1, 1]\n",
        "}\n",
        "\n",
        "# Membuat DataFrame\n",
        "df = pd.DataFrame(data)\n",
        "df.head()\n"
      ],
      "metadata": {
        "colab": {
          "base_uri": "https://localhost:8080/",
          "height": 206
        },
        "id": "XKxYQmXf8ptL",
        "outputId": "2188d279-2c74-4603-a509-b3c1e039ae60"
      },
      "execution_count": 11,
      "outputs": [
        {
          "output_type": "execute_result",
          "data": {
            "text/plain": [
              "   jam_belajar  jam_tidur  lulus\n",
              "0            2          8      0\n",
              "1            3          7      0\n",
              "2            4          6      0\n",
              "3            5          5      1\n",
              "4            6          4      1"
            ],
            "text/html": [
              "\n",
              "  <div id=\"df-3df03588-fec2-4cc0-ae3c-c90a8769c480\" class=\"colab-df-container\">\n",
              "    <div>\n",
              "<style scoped>\n",
              "    .dataframe tbody tr th:only-of-type {\n",
              "        vertical-align: middle;\n",
              "    }\n",
              "\n",
              "    .dataframe tbody tr th {\n",
              "        vertical-align: top;\n",
              "    }\n",
              "\n",
              "    .dataframe thead th {\n",
              "        text-align: right;\n",
              "    }\n",
              "</style>\n",
              "<table border=\"1\" class=\"dataframe\">\n",
              "  <thead>\n",
              "    <tr style=\"text-align: right;\">\n",
              "      <th></th>\n",
              "      <th>jam_belajar</th>\n",
              "      <th>jam_tidur</th>\n",
              "      <th>lulus</th>\n",
              "    </tr>\n",
              "  </thead>\n",
              "  <tbody>\n",
              "    <tr>\n",
              "      <th>0</th>\n",
              "      <td>2</td>\n",
              "      <td>8</td>\n",
              "      <td>0</td>\n",
              "    </tr>\n",
              "    <tr>\n",
              "      <th>1</th>\n",
              "      <td>3</td>\n",
              "      <td>7</td>\n",
              "      <td>0</td>\n",
              "    </tr>\n",
              "    <tr>\n",
              "      <th>2</th>\n",
              "      <td>4</td>\n",
              "      <td>6</td>\n",
              "      <td>0</td>\n",
              "    </tr>\n",
              "    <tr>\n",
              "      <th>3</th>\n",
              "      <td>5</td>\n",
              "      <td>5</td>\n",
              "      <td>1</td>\n",
              "    </tr>\n",
              "    <tr>\n",
              "      <th>4</th>\n",
              "      <td>6</td>\n",
              "      <td>4</td>\n",
              "      <td>1</td>\n",
              "    </tr>\n",
              "  </tbody>\n",
              "</table>\n",
              "</div>\n",
              "    <div class=\"colab-df-buttons\">\n",
              "\n",
              "  <div class=\"colab-df-container\">\n",
              "    <button class=\"colab-df-convert\" onclick=\"convertToInteractive('df-3df03588-fec2-4cc0-ae3c-c90a8769c480')\"\n",
              "            title=\"Convert this dataframe to an interactive table.\"\n",
              "            style=\"display:none;\">\n",
              "\n",
              "  <svg xmlns=\"http://www.w3.org/2000/svg\" height=\"24px\" viewBox=\"0 -960 960 960\">\n",
              "    <path d=\"M120-120v-720h720v720H120Zm60-500h600v-160H180v160Zm220 220h160v-160H400v160Zm0 220h160v-160H400v160ZM180-400h160v-160H180v160Zm440 0h160v-160H620v160ZM180-180h160v-160H180v160Zm440 0h160v-160H620v160Z\"/>\n",
              "  </svg>\n",
              "    </button>\n",
              "\n",
              "  <style>\n",
              "    .colab-df-container {\n",
              "      display:flex;\n",
              "      gap: 12px;\n",
              "    }\n",
              "\n",
              "    .colab-df-convert {\n",
              "      background-color: #E8F0FE;\n",
              "      border: none;\n",
              "      border-radius: 50%;\n",
              "      cursor: pointer;\n",
              "      display: none;\n",
              "      fill: #1967D2;\n",
              "      height: 32px;\n",
              "      padding: 0 0 0 0;\n",
              "      width: 32px;\n",
              "    }\n",
              "\n",
              "    .colab-df-convert:hover {\n",
              "      background-color: #E2EBFA;\n",
              "      box-shadow: 0px 1px 2px rgba(60, 64, 67, 0.3), 0px 1px 3px 1px rgba(60, 64, 67, 0.15);\n",
              "      fill: #174EA6;\n",
              "    }\n",
              "\n",
              "    .colab-df-buttons div {\n",
              "      margin-bottom: 4px;\n",
              "    }\n",
              "\n",
              "    [theme=dark] .colab-df-convert {\n",
              "      background-color: #3B4455;\n",
              "      fill: #D2E3FC;\n",
              "    }\n",
              "\n",
              "    [theme=dark] .colab-df-convert:hover {\n",
              "      background-color: #434B5C;\n",
              "      box-shadow: 0px 1px 3px 1px rgba(0, 0, 0, 0.15);\n",
              "      filter: drop-shadow(0px 1px 2px rgba(0, 0, 0, 0.3));\n",
              "      fill: #FFFFFF;\n",
              "    }\n",
              "  </style>\n",
              "\n",
              "    <script>\n",
              "      const buttonEl =\n",
              "        document.querySelector('#df-3df03588-fec2-4cc0-ae3c-c90a8769c480 button.colab-df-convert');\n",
              "      buttonEl.style.display =\n",
              "        google.colab.kernel.accessAllowed ? 'block' : 'none';\n",
              "\n",
              "      async function convertToInteractive(key) {\n",
              "        const element = document.querySelector('#df-3df03588-fec2-4cc0-ae3c-c90a8769c480');\n",
              "        const dataTable =\n",
              "          await google.colab.kernel.invokeFunction('convertToInteractive',\n",
              "                                                    [key], {});\n",
              "        if (!dataTable) return;\n",
              "\n",
              "        const docLinkHtml = 'Like what you see? Visit the ' +\n",
              "          '<a target=\"_blank\" href=https://colab.research.google.com/notebooks/data_table.ipynb>data table notebook</a>'\n",
              "          + ' to learn more about interactive tables.';\n",
              "        element.innerHTML = '';\n",
              "        dataTable['output_type'] = 'display_data';\n",
              "        await google.colab.output.renderOutput(dataTable, element);\n",
              "        const docLink = document.createElement('div');\n",
              "        docLink.innerHTML = docLinkHtml;\n",
              "        element.appendChild(docLink);\n",
              "      }\n",
              "    </script>\n",
              "  </div>\n",
              "\n",
              "\n",
              "<div id=\"df-9830b209-2078-4e09-94f0-f76b1d79912e\">\n",
              "  <button class=\"colab-df-quickchart\" onclick=\"quickchart('df-9830b209-2078-4e09-94f0-f76b1d79912e')\"\n",
              "            title=\"Suggest charts\"\n",
              "            style=\"display:none;\">\n",
              "\n",
              "<svg xmlns=\"http://www.w3.org/2000/svg\" height=\"24px\"viewBox=\"0 0 24 24\"\n",
              "     width=\"24px\">\n",
              "    <g>\n",
              "        <path d=\"M19 3H5c-1.1 0-2 .9-2 2v14c0 1.1.9 2 2 2h14c1.1 0 2-.9 2-2V5c0-1.1-.9-2-2-2zM9 17H7v-7h2v7zm4 0h-2V7h2v10zm4 0h-2v-4h2v4z\"/>\n",
              "    </g>\n",
              "</svg>\n",
              "  </button>\n",
              "\n",
              "<style>\n",
              "  .colab-df-quickchart {\n",
              "      --bg-color: #E8F0FE;\n",
              "      --fill-color: #1967D2;\n",
              "      --hover-bg-color: #E2EBFA;\n",
              "      --hover-fill-color: #174EA6;\n",
              "      --disabled-fill-color: #AAA;\n",
              "      --disabled-bg-color: #DDD;\n",
              "  }\n",
              "\n",
              "  [theme=dark] .colab-df-quickchart {\n",
              "      --bg-color: #3B4455;\n",
              "      --fill-color: #D2E3FC;\n",
              "      --hover-bg-color: #434B5C;\n",
              "      --hover-fill-color: #FFFFFF;\n",
              "      --disabled-bg-color: #3B4455;\n",
              "      --disabled-fill-color: #666;\n",
              "  }\n",
              "\n",
              "  .colab-df-quickchart {\n",
              "    background-color: var(--bg-color);\n",
              "    border: none;\n",
              "    border-radius: 50%;\n",
              "    cursor: pointer;\n",
              "    display: none;\n",
              "    fill: var(--fill-color);\n",
              "    height: 32px;\n",
              "    padding: 0;\n",
              "    width: 32px;\n",
              "  }\n",
              "\n",
              "  .colab-df-quickchart:hover {\n",
              "    background-color: var(--hover-bg-color);\n",
              "    box-shadow: 0 1px 2px rgba(60, 64, 67, 0.3), 0 1px 3px 1px rgba(60, 64, 67, 0.15);\n",
              "    fill: var(--button-hover-fill-color);\n",
              "  }\n",
              "\n",
              "  .colab-df-quickchart-complete:disabled,\n",
              "  .colab-df-quickchart-complete:disabled:hover {\n",
              "    background-color: var(--disabled-bg-color);\n",
              "    fill: var(--disabled-fill-color);\n",
              "    box-shadow: none;\n",
              "  }\n",
              "\n",
              "  .colab-df-spinner {\n",
              "    border: 2px solid var(--fill-color);\n",
              "    border-color: transparent;\n",
              "    border-bottom-color: var(--fill-color);\n",
              "    animation:\n",
              "      spin 1s steps(1) infinite;\n",
              "  }\n",
              "\n",
              "  @keyframes spin {\n",
              "    0% {\n",
              "      border-color: transparent;\n",
              "      border-bottom-color: var(--fill-color);\n",
              "      border-left-color: var(--fill-color);\n",
              "    }\n",
              "    20% {\n",
              "      border-color: transparent;\n",
              "      border-left-color: var(--fill-color);\n",
              "      border-top-color: var(--fill-color);\n",
              "    }\n",
              "    30% {\n",
              "      border-color: transparent;\n",
              "      border-left-color: var(--fill-color);\n",
              "      border-top-color: var(--fill-color);\n",
              "      border-right-color: var(--fill-color);\n",
              "    }\n",
              "    40% {\n",
              "      border-color: transparent;\n",
              "      border-right-color: var(--fill-color);\n",
              "      border-top-color: var(--fill-color);\n",
              "    }\n",
              "    60% {\n",
              "      border-color: transparent;\n",
              "      border-right-color: var(--fill-color);\n",
              "    }\n",
              "    80% {\n",
              "      border-color: transparent;\n",
              "      border-right-color: var(--fill-color);\n",
              "      border-bottom-color: var(--fill-color);\n",
              "    }\n",
              "    90% {\n",
              "      border-color: transparent;\n",
              "      border-bottom-color: var(--fill-color);\n",
              "    }\n",
              "  }\n",
              "</style>\n",
              "\n",
              "  <script>\n",
              "    async function quickchart(key) {\n",
              "      const quickchartButtonEl =\n",
              "        document.querySelector('#' + key + ' button');\n",
              "      quickchartButtonEl.disabled = true;  // To prevent multiple clicks.\n",
              "      quickchartButtonEl.classList.add('colab-df-spinner');\n",
              "      try {\n",
              "        const charts = await google.colab.kernel.invokeFunction(\n",
              "            'suggestCharts', [key], {});\n",
              "      } catch (error) {\n",
              "        console.error('Error during call to suggestCharts:', error);\n",
              "      }\n",
              "      quickchartButtonEl.classList.remove('colab-df-spinner');\n",
              "      quickchartButtonEl.classList.add('colab-df-quickchart-complete');\n",
              "    }\n",
              "    (() => {\n",
              "      let quickchartButtonEl =\n",
              "        document.querySelector('#df-9830b209-2078-4e09-94f0-f76b1d79912e button');\n",
              "      quickchartButtonEl.style.display =\n",
              "        google.colab.kernel.accessAllowed ? 'block' : 'none';\n",
              "    })();\n",
              "  </script>\n",
              "</div>\n",
              "\n",
              "    </div>\n",
              "  </div>\n"
            ],
            "application/vnd.google.colaboratory.intrinsic+json": {
              "type": "dataframe",
              "variable_name": "df",
              "summary": "{\n  \"name\": \"df\",\n  \"rows\": 14,\n  \"fields\": [\n    {\n      \"column\": \"jam_belajar\",\n      \"properties\": {\n        \"dtype\": \"number\",\n        \"std\": 2,\n        \"min\": 2,\n        \"max\": 9,\n        \"num_unique_values\": 8,\n        \"samples\": [\n          3,\n          7,\n          2\n        ],\n        \"semantic_type\": \"\",\n        \"description\": \"\"\n      }\n    },\n    {\n      \"column\": \"jam_tidur\",\n      \"properties\": {\n        \"dtype\": \"number\",\n        \"std\": 1,\n        \"min\": 4,\n        \"max\": 8,\n        \"num_unique_values\": 5,\n        \"samples\": [\n          7,\n          4,\n          6\n        ],\n        \"semantic_type\": \"\",\n        \"description\": \"\"\n      }\n    },\n    {\n      \"column\": \"lulus\",\n      \"properties\": {\n        \"dtype\": \"number\",\n        \"std\": 0,\n        \"min\": 0,\n        \"max\": 1,\n        \"num_unique_values\": 2,\n        \"samples\": [\n          1,\n          0\n        ],\n        \"semantic_type\": \"\",\n        \"description\": \"\"\n      }\n    }\n  ]\n}"
            }
          },
          "metadata": {},
          "execution_count": 11
        }
      ]
    },
    {
      "cell_type": "markdown",
      "source": [
        "## Visualisasi Data\n",
        "\n",
        "Kami akan membuat scatter plot untuk melihat hubungan antara jam belajar, jam tidur, dan status kelulusan.\n"
      ],
      "metadata": {
        "id": "kaWz_f7q8yZF"
      }
    },
    {
      "cell_type": "code",
      "source": [
        "# 3. Visualisasi Data\n",
        "plt.figure(figsize=(8, 6))\n",
        "sns.scatterplot(x='jam_belajar', y='jam_tidur', hue='lulus', data=df, palette='deep')\n",
        "plt.title('Scatter Plot: Jam Belajar vs Jam Tidur')\n",
        "plt.xlabel('Jam Belajar')\n",
        "plt.ylabel('Jam Tidur')\n",
        "plt.show()\n"
      ],
      "metadata": {
        "colab": {
          "base_uri": "https://localhost:8080/",
          "height": 564
        },
        "id": "bvtjIkVp8zfI",
        "outputId": "b8d02062-2b64-4985-fb7a-df979e0c5599"
      },
      "execution_count": 12,
      "outputs": [
        {
          "output_type": "display_data",
          "data": {
            "text/plain": [
              "<Figure size 800x600 with 1 Axes>"
            ],
            "image/png": "[encoded data removed]"
          },
          "metadata": {}
        }
      ]
    },
    {
      "cell_type": "markdown",
      "source": [
        "## Pemrosesan Data dan Pembagian Dataset\n",
        "\n",
        "Sekarang, kami akan membagi dataset menjadi data latih dan data uji, serta melakukan standarisasi fitur.\n"
      ],
      "metadata": {
        "id": "Nljn9Qmr85Ug"
      }
    },
    {
      "cell_type": "code",
      "source": [
        "# 4. Pemrosesan Data\n",
        "X = df[['jam_belajar', 'jam_tidur']]  # Fitur\n",
        "y = df['lulus']  # Label\n",
        "\n",
        "# Membagi data latih dan uji\n",
        "X_train, X_test, y_train, y_test = train_test_split(X, y, test_size=0.3, random_state=42)\n",
        "\n",
        "# Standarisasi fitur\n",
        "scaler = StandardScaler()\n",
        "X_train = scaler.fit_transform(X_train)\n",
        "X_test = scaler.transform(X_test)\n"
      ],
      "metadata": {
        "id": "jr7HI5he81ZT"
      },
      "execution_count": 13,
      "outputs": []
    },
    {
      "cell_type": "markdown",
      "source": [
        "## Pelatihan Model KNN\n",
        "\n",
        "Kami akan melatih model **K-Nearest Neighbors (KNN)** untuk memprediksi apakah siswa lulus atau tidak.\n"
      ],
      "metadata": {
        "id": "_SayNEgP9ADb"
      }
    },
    {
      "cell_type": "code",
      "source": [
        "# 5. Pelatihan Model KNN\n",
        "knn = KNeighborsClassifier(n_neighbors=3)\n",
        "knn.fit(X_train, y_train)\n",
        "y_pred_knn = knn.predict(X_test)\n"
      ],
      "metadata": {
        "id": "kt4rncEp88Fh"
      },
      "execution_count": 14,
      "outputs": []
    },
    {
      "cell_type": "markdown",
      "source": [
        "## Pelatihan Model Logistic Regression\n",
        "\n",
        "Kami juga melatih model **Logistic Regression** untuk membandingkan hasil prediksinya dengan KNN.\n"
      ],
      "metadata": {
        "id": "7KsxAwLK9EBS"
      }
    },
    {
      "cell_type": "code",
      "source": [
        "# 6. Pelatihan Model Logistic Regression\n",
        "logreg = LogisticRegression()\n",
        "logreg.fit(X_train, y_train)\n",
        "y_pred_logreg = logreg.predict(X_test)\n"
      ],
      "metadata": {
        "id": "EqT-Dl5p9DCR"
      },
      "execution_count": 15,
      "outputs": []
    },
    {
      "cell_type": "markdown",
      "source": [
        "## Evaluasi Model\n",
        "\n",
        "Kami akan mengevaluasi performa kedua model berdasarkan akurasi dan laporan klasifikasi.\n"
      ],
      "metadata": {
        "id": "wM_fk4IB9Nfu"
      }
    },
    {
      "cell_type": "code",
      "source": [
        "# 7. Evaluasi Model\n",
        "print(\"KNN Accuracy:\", accuracy_score(y_test, y_pred_knn))\n",
        "print(\"KNN Classification Report:\\n\", classification_report(y_test, y_pred_knn))\n",
        "\n",
        "print(\"Logistic Regression Accuracy:\", accuracy_score(y_test, y_pred_logreg))\n",
        "print(\"Logistic Regression Classification Report:\\n\", classification_report(y_test, y_pred_logreg))\n"
      ],
      "metadata": {
        "colab": {
          "base_uri": "https://localhost:8080/"
        },
        "id": "YRMigcRf9LkV",
        "outputId": "d452d663-4bfb-43fa-d780-46f7cbd340cd"
      },
      "execution_count": 16,
      "outputs": [
        {
          "output_type": "stream",
          "name": "stdout",
          "text": [
            "KNN Accuracy: 0.6\n",
            "KNN Classification Report:\n",
            "               precision    recall  f1-score   support\n",
            "\n",
            "           0       0.33      1.00      0.50         1\n",
            "           1       1.00      0.50      0.67         4\n",
            "\n",
            "    accuracy                           0.60         5\n",
            "   macro avg       0.67      0.75      0.58         5\n",
            "weighted avg       0.87      0.60      0.63         5\n",
            "\n",
            "Logistic Regression Accuracy: 0.8\n",
            "Logistic Regression Classification Report:\n",
            "               precision    recall  f1-score   support\n",
            "\n",
            "           0       0.50      1.00      0.67         1\n",
            "           1       1.00      0.75      0.86         4\n",
            "\n",
            "    accuracy                           0.80         5\n",
            "   macro avg       0.75      0.88      0.76         5\n",
            "weighted avg       0.90      0.80      0.82         5\n",
            "\n"
          ]
        }
      ]
    },
    {
      "cell_type": "markdown",
      "source": [
        "## Visualisasi Hasil Prediksi KNN\n",
        "\n",
        "Berikut adalah scatter plot dari hasil prediksi model KNN.\n"
      ],
      "metadata": {
        "id": "Sih8TttL9SpE"
      }
    },
    {
      "cell_type": "code",
      "source": [
        "# 8. Visualisasi Hasil Prediksi (Opsional)\n",
        "# Membuat DataFrame untuk prediksi hasil KNN\n",
        "predicted_classes = pd.DataFrame(X_test, columns=['jam_belajar', 'jam_tidur'])\n",
        "predicted_classes['predicted_lulus'] = y_pred_knn\n",
        "\n",
        "# Scatter plot untuk hasil prediksi\n",
        "plt.figure(figsize=(8, 6))\n",
        "sns.scatterplot(x='jam_belajar', y='jam_tidur', hue='predicted_lulus', data=predicted_classes, palette='deep')\n",
        "plt.title('Scatter Plot of Predicted Classes (KNN)')\n",
        "plt.xlabel('Jam Belajar')\n",
        "plt.ylabel('Jam Tidur')\n",
        "plt.show()\n"
      ],
      "metadata": {
        "colab": {
          "base_uri": "https://localhost:8080/",
          "height": 564
        },
        "id": "nmP1L9as9U2t",
        "outputId": "10108036-f016-4c9b-e955-fd657bf5b00e"
      },
      "execution_count": 17,
      "outputs": [
        {
          "output_type": "display_data",
          "data": {
            "text/plain": [
              "<Figure size 800x600 with 1 Axes>"
            ],
            "image/png": "[encoded data removed]"
          },
          "metadata": {}
        }
      ]
    },
    {
      "cell_type": "markdown",
      "source": [
        "## Penjelasan Hasil Visualisasi Data Asli\n",
        "\n",
        "- **Sumbu X (Jam Belajar)**: Menunjukkan jumlah jam yang dihabiskan siswa untuk belajar.\n",
        "- **Sumbu Y (Jam Tidur)**: Menunjukkan jumlah jam tidur siswa.\n",
        "- **Warna Titik**:\n",
        "  - **Biru**: Menunjukkan siswa **tidak lulus** ujian.\n",
        "  - **Oranye**: Menunjukkan siswa **lulus** ujian.\n",
        "\n",
        "Dari scatter plot ini, kita dapat mengamati beberapa pola penting:\n",
        "1. Siswa yang **menghabiskan lebih banyak waktu untuk belajar** (biasanya di atas 5 jam) cenderung lebih mungkin untuk **lulus ujian** (ditandai dengan warna oranye).\n",
        "2. Siswa yang **jam belajarnya rendah** (di bawah 5 jam) cenderung **tidak lulus** ujian (ditandai dengan warna biru), terutama jika jam tidurnya juga tidak optimal.\n",
        "3. Terdapat keseimbangan yang tampaknya berpengaruh antara **jumlah jam belajar dan jam tidur**. Siswa yang belajar lebih banyak namun tidak tidur terlalu sedikit atau terlalu banyak cenderung memiliki hasil yang lebih baik.\n",
        "\n",
        "Secara umum, kita dapat melihat bahwa kombinasi antara **jam belajar** dan **jam tidur** memiliki hubungan yang jelas dengan kelulusan siswa.\n"
      ],
      "metadata": {
        "id": "kPH5lOLS9s-x"
      }
    },
    {
      "cell_type": "markdown",
      "source": [
        "## Penjelasan Hasil Visualisasi Prediksi KNN\n",
        "\n",
        "- **Sumbu X (Jam Belajar)**: Jumlah jam belajar siswa.\n",
        "- **Sumbu Y (Jam Tidur)**: Jumlah jam tidur siswa.\n",
        "- **Warna Titik**: Mewakili hasil prediksi model KNN tentang apakah siswa lulus atau tidak lulus.\n",
        "  - **Biru**: Model memprediksi siswa **tidak lulus**.\n",
        "  - **Oranye**: Model memprediksi siswa **lulus**.\n",
        "\n",
        "Dari visualisasi hasil prediksi ini, kita dapat mengamati:\n",
        "1. Jika pola warna prediksi **mirip dengan pola data asli**, maka model KNN berhasil memprediksi dengan baik.\n",
        "2. Jika ada **titik-titik yang berbeda warnanya dari data asli**, itu berarti model membuat kesalahan prediksi.\n",
        "\n",
        "Secara keseluruhan, visualisasi ini membantu kita memahami seberapa baik model KNN bekerja dalam memprediksi apakah siswa akan lulus berdasarkan jam belajar dan jam tidur. Hasil prediksi model ini bisa kita bandingkan dengan visualisasi data asli untuk mengevaluasi akurasi model.\n"
      ],
      "metadata": {
        "id": "0NNVG0dv9t4z"
      }
    }
  ]
}